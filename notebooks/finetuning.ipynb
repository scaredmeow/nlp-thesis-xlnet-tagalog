{
 "cells": [
  {
   "cell_type": "code",
   "execution_count": 1,
   "metadata": {},
   "outputs": [],
   "source": [
    "%%capture\n",
    "from datasets import load_dataset\n",
    "\n",
    "dataset = load_dataset(\"scaredmeow/shopee-reviews-tl-binary\")\n"
   ]
  },
  {
   "cell_type": "code",
   "execution_count": 2,
   "metadata": {},
   "outputs": [],
   "source": [
    "%%capture\n",
    "import wandb\n",
    "\n",
    "# initialize wandb\n",
    "wandb.init(project=\"xlnet-finetuning\", name=\"5th-run\")"
   ]
  },
  {
   "cell_type": "code",
   "execution_count": 3,
   "metadata": {},
   "outputs": [],
   "source": [
    "from transformers import (\n",
    "    AutoModelForSequenceClassification,\n",
    "    AutoTokenizer,\n",
    ")\n",
    "\n",
    "pretrained = \"scaredmeow/xlnet-tagalog-base\"\n",
    "tokenizer = AutoTokenizer.from_pretrained(pretrained)\n",
    "\n",
    "\n",
    "model = AutoModelForSequenceClassification.from_pretrained(pretrained, num_labels=2).to(\n",
    "    \"cuda\"\n",
    ")\n"
   ]
  },
  {
   "cell_type": "code",
   "execution_count": 4,
   "metadata": {},
   "outputs": [
    {
     "name": "stderr",
     "output_type": "stream",
     "text": [
      "Loading cached processed dataset at C:\\Users\\Neilc\\.cache\\huggingface\\datasets\\scaredmeow___csv\\scaredmeow--shopee-reviews-tl-binary-1d8ca6081d1e87c3\\0.0.0\\6954658bab30a358235fa864b05cf819af0e179325c740e4bc853bcc7ec513e1\\cache-2893d2e8bfd13996.arrow\n",
      "Loading cached processed dataset at C:\\Users\\Neilc\\.cache\\huggingface\\datasets\\scaredmeow___csv\\scaredmeow--shopee-reviews-tl-binary-1d8ca6081d1e87c3\\0.0.0\\6954658bab30a358235fa864b05cf819af0e179325c740e4bc853bcc7ec513e1\\cache-df42fbfc9c8ebdee.arrow\n",
      "Loading cached processed dataset at C:\\Users\\Neilc\\.cache\\huggingface\\datasets\\scaredmeow___csv\\scaredmeow--shopee-reviews-tl-binary-1d8ca6081d1e87c3\\0.0.0\\6954658bab30a358235fa864b05cf819af0e179325c740e4bc853bcc7ec513e1\\cache-5b185106621efb10.arrow\n"
     ]
    }
   ],
   "source": [
    "def tokenize_function(examples):\n",
    "    return tokenizer(\n",
    "        examples[\"text\"],\n",
    "        padding=\"max_length\",\n",
    "        truncation=True,\n",
    "        max_length=512,\n",
    "        return_tensors=\"pt\",\n",
    "    )\n",
    "\n",
    "\n",
    "tokenized_datasets = dataset.map(tokenize_function, batched=True)\n"
   ]
  },
  {
   "cell_type": "code",
   "execution_count": 13,
   "metadata": {},
   "outputs": [
    {
     "name": "stderr",
     "output_type": "stream",
     "text": [
      "Loading cached shuffled indices for dataset at C:\\Users\\Neilc\\.cache\\huggingface\\datasets\\scaredmeow___csv\\scaredmeow--shopee-reviews-tl-binary-1d8ca6081d1e87c3\\0.0.0\\6954658bab30a358235fa864b05cf819af0e179325c740e4bc853bcc7ec513e1\\cache-c5464b19db367f15.arrow\n",
      "Loading cached shuffled indices for dataset at C:\\Users\\Neilc\\.cache\\huggingface\\datasets\\scaredmeow___csv\\scaredmeow--shopee-reviews-tl-binary-1d8ca6081d1e87c3\\0.0.0\\6954658bab30a358235fa864b05cf819af0e179325c740e4bc853bcc7ec513e1\\cache-e25a7f44079aac3c.arrow\n",
      "Loading cached shuffled indices for dataset at C:\\Users\\Neilc\\.cache\\huggingface\\datasets\\scaredmeow___csv\\scaredmeow--shopee-reviews-tl-binary-1d8ca6081d1e87c3\\0.0.0\\6954658bab30a358235fa864b05cf819af0e179325c740e4bc853bcc7ec513e1\\cache-cf509ac154b15c78.arrow\n"
     ]
    }
   ],
   "source": [
    "small_train_dataset = (\n",
    "    tokenized_datasets[\"train\"]\n",
    "    .shuffle(seed=42)\n",
    "    .select(range(int((len(tokenized_datasets[\"train\"]) * 0.1))))\n",
    ")\n",
    "small_eval_dataset = (\n",
    "    tokenized_datasets[\"test\"]\n",
    "    .shuffle(seed=42)\n",
    "    .select(range(int((len(tokenized_datasets[\"test\"]) * 0.1))))\n",
    ")\n",
    "small_test_dataset = (\n",
    "    tokenized_datasets[\"validation\"]\n",
    "    .shuffle(seed=42)\n",
    "    .select(range(int((len(tokenized_datasets[\"validation\"]) * 0.1))))\n",
    ")\n"
   ]
  },
  {
   "cell_type": "code",
   "execution_count": 6,
   "metadata": {},
   "outputs": [],
   "source": [
    "from transformers import TrainingArguments\n",
    "\n",
    "training_args = TrainingArguments(output_dir=\"test_trainer\")\n",
    "\n",
    "import numpy as np\n",
    "import evaluate\n",
    "\n",
    "metric = evaluate.load(\"accuracy\")\n",
    "\n",
    "\n",
    "def compute_metrics(eval_pred):\n",
    "    logits, labels = eval_pred\n",
    "    predictions = np.argmax(logits, axis=-1)\n",
    "    return metric.compute(predictions=predictions, references=labels)\n",
    "\n",
    "\n",
    "from transformers import TrainingArguments, Trainer\n",
    "\n",
    "training_args = TrainingArguments(\n",
    "    output_dir=\"../models/finetuned-xlnet-shopee\",\n",
    "    evaluation_strategy=\"epoch\",\n",
    "        learning_rate=2e-5,\n",
    "    do_train=True,\n",
    "    do_eval=True,\n",
    "    per_device_train_batch_size=4,\n",
    "    per_device_eval_batch_size=4,\n",
    "    save_steps=1000,\n",
    "    logging_steps=500,\n",
    "    save_total_limit=2,\n",
    "    num_train_epochs=3,\n",
    "    seed=42,\n",
    "    logging_dir=\"./logs\",\n",
    "    eval_steps=500,\n",
    "    overwrite_output_dir=True,\n",
    ")\n",
    "\n",
    "trainer = Trainer(\n",
    "    model=model,\n",
    "    args=training_args,\n",
    "    train_dataset=small_train_dataset,\n",
    "    eval_dataset=small_eval_dataset,\n",
    "    compute_metrics=compute_metrics,\n",
    ")\n"
   ]
  },
  {
   "cell_type": "code",
   "execution_count": 7,
   "metadata": {},
   "outputs": [
    {
     "name": "stderr",
     "output_type": "stream",
     "text": [
      "c:\\Users\\Neilc\\dev\\proj\\nlp-thesis-xlnet-tagalog\\.venv\\lib\\site-packages\\transformers\\optimization.py:407: FutureWarning: This implementation of AdamW is deprecated and will be removed in a future version. Use the PyTorch implementation torch.optim.AdamW instead, or set `no_deprecation_warning=True` to disable this warning\n",
      "  warnings.warn(\n"
     ]
    },
    {
     "data": {
      "application/vnd.jupyter.widget-view+json": {
       "model_id": "6aaa9b8a0d744e19a26734fcd1cd2a82",
       "version_major": 2,
       "version_minor": 0
      },
      "text/plain": [
       "  0%|          | 0/2100 [00:00<?, ?it/s]"
      ]
     },
     "metadata": {},
     "output_type": "display_data"
    },
    {
     "name": "stdout",
     "output_type": "stream",
     "text": [
      "{'loss': 0.5918, 'learning_rate': 3.809523809523809e-05, 'epoch': 0.71}\n"
     ]
    },
    {
     "data": {
      "application/vnd.jupyter.widget-view+json": {
       "model_id": "bc93be3742dd4017bedbe9772539c7ec",
       "version_major": 2,
       "version_minor": 0
      },
      "text/plain": [
       "  0%|          | 0/150 [00:00<?, ?it/s]"
      ]
     },
     "metadata": {},
     "output_type": "display_data"
    },
    {
     "name": "stdout",
     "output_type": "stream",
     "text": [
      "{'eval_loss': 0.6087220311164856, 'eval_accuracy': 0.8266666666666667, 'eval_runtime': 80.13, 'eval_samples_per_second': 7.488, 'eval_steps_per_second': 1.872, 'epoch': 1.0}\n",
      "{'loss': 0.5284, 'learning_rate': 2.6190476190476192e-05, 'epoch': 1.43}\n"
     ]
    },
    {
     "data": {
      "application/vnd.jupyter.widget-view+json": {
       "model_id": "da276e4e22eb487a851d98b5b5821af3",
       "version_major": 2,
       "version_minor": 0
      },
      "text/plain": [
       "  0%|          | 0/150 [00:00<?, ?it/s]"
      ]
     },
     "metadata": {},
     "output_type": "display_data"
    },
    {
     "name": "stdout",
     "output_type": "stream",
     "text": [
      "{'eval_loss': 0.2893364429473877, 'eval_accuracy': 0.9333333333333333, 'eval_runtime': 80.6621, 'eval_samples_per_second': 7.438, 'eval_steps_per_second': 1.86, 'epoch': 2.0}\n",
      "{'loss': 0.4124, 'learning_rate': 1.4285714285714285e-05, 'epoch': 2.14}\n",
      "{'loss': 0.2349, 'learning_rate': 2.3809523809523808e-06, 'epoch': 2.86}\n"
     ]
    },
    {
     "data": {
      "application/vnd.jupyter.widget-view+json": {
       "model_id": "1099c358502b418da8dd71614eafe4ff",
       "version_major": 2,
       "version_minor": 0
      },
      "text/plain": [
       "  0%|          | 0/150 [00:00<?, ?it/s]"
      ]
     },
     "metadata": {},
     "output_type": "display_data"
    },
    {
     "name": "stdout",
     "output_type": "stream",
     "text": [
      "{'eval_loss': 0.3245619237422943, 'eval_accuracy': 0.93, 'eval_runtime': 81.0023, 'eval_samples_per_second': 7.407, 'eval_steps_per_second': 1.852, 'epoch': 3.0}\n",
      "{'train_runtime': 2765.8198, 'train_samples_per_second': 3.037, 'train_steps_per_second': 0.759, 'train_loss': 0.4360509327479771, 'epoch': 3.0}\n"
     ]
    },
    {
     "data": {
      "text/plain": [
       "TrainOutput(global_step=2100, training_loss=0.4360509327479771, metrics={'train_runtime': 2765.8198, 'train_samples_per_second': 3.037, 'train_steps_per_second': 0.759, 'train_loss': 0.4360509327479771, 'epoch': 3.0})"
      ]
     },
     "execution_count": 7,
     "metadata": {},
     "output_type": "execute_result"
    }
   ],
   "source": [
    "trainer.train()\n"
   ]
  },
  {
   "cell_type": "code",
   "execution_count": 8,
   "metadata": {},
   "outputs": [
    {
     "data": {
      "text/plain": [
       "('../models/fine-tuned-roberta-1st-iter\\\\tokenizer_config.json',\n",
       " '../models/fine-tuned-roberta-1st-iter\\\\special_tokens_map.json',\n",
       " '../models/fine-tuned-roberta-1st-iter\\\\spiece.model',\n",
       " '../models/fine-tuned-roberta-1st-iter\\\\added_tokens.json',\n",
       " '../models/fine-tuned-roberta-1st-iter\\\\tokenizer.json')"
      ]
     },
     "execution_count": 8,
     "metadata": {},
     "output_type": "execute_result"
    }
   ],
   "source": [
    "trainer.save_model(\"../models/fine-tuned-roberta-1st-iter\")\n",
    "tokenizer.save_pretrained(\"../models/fine-tuned-roberta-1st-iter\")\n"
   ]
  },
  {
   "cell_type": "code",
   "execution_count": 9,
   "metadata": {},
   "outputs": [],
   "source": [
    "dataset = tokenized_datasets[\"validation\"]\n"
   ]
  },
  {
   "cell_type": "code",
   "execution_count": 14,
   "metadata": {},
   "outputs": [
    {
     "data": {
      "application/vnd.jupyter.widget-view+json": {
       "model_id": "97483ae4754b4d51a283277963b3bc59",
       "version_major": 2,
       "version_minor": 0
      },
      "text/plain": [
       "  0%|          | 0/150 [00:00<?, ?it/s]"
      ]
     },
     "metadata": {},
     "output_type": "display_data"
    }
   ],
   "source": [
    "pred = trainer.predict(small_test_dataset).predictions\n"
   ]
  },
  {
   "cell_type": "code",
   "execution_count": 15,
   "metadata": {},
   "outputs": [],
   "source": [
    "y_pred = np.argmax(pred, axis=1).tolist()\n",
    "y_true = small_test_dataset[\"label\"]\n"
   ]
  },
  {
   "cell_type": "code",
   "execution_count": 16,
   "metadata": {},
   "outputs": [
    {
     "data": {
      "image/png": "[encoded data removed]",
      "text/plain": [
       "<Figure size 640x480 with 2 Axes>"
      ]
     },
     "metadata": {},
     "output_type": "display_data"
    },
    {
     "name": "stdout",
     "output_type": "stream",
     "text": [
      "Accuracy: 0.93\n",
      "Precision: 0.9301053754835268\n",
      "Recall: 0.9299524423307702\n",
      "F1 score: 0.9299875533428166\n"
     ]
    }
   ],
   "source": [
    "import matplotlib.pyplot as plt\n",
    "from sklearn.metrics import (\n",
    "    accuracy_score,\n",
    "    precision_score,\n",
    "    recall_score,\n",
    "    f1_score,\n",
    "    confusion_matrix,\n",
    "    ConfusionMatrixDisplay,\n",
    ")\n",
    "\n",
    "# Compute the confusion matrix\n",
    "cm = confusion_matrix(y_true, y_pred, labels=[0, 1])\n",
    "disp = ConfusionMatrixDisplay(confusion_matrix=cm, display_labels=[0, 1])\n",
    "disp.plot()\n",
    "plt.show()\n",
    "\n",
    "# Compute the accuracy\n",
    "acc = accuracy_score(y_true, y_pred)\n",
    "print(\"Accuracy:\", acc)\n",
    "\n",
    "# Compute the precision\n",
    "prec = precision_score(y_true, y_pred, average=\"macro\")\n",
    "print(\"Precision:\", prec)\n",
    "\n",
    "# Compute the recall\n",
    "rec = recall_score(y_true, y_pred, average=\"macro\")\n",
    "print(\"Recall:\", rec)\n",
    "\n",
    "# Compute the f1 score\n",
    "f1 = f1_score(y_true, y_pred, average=\"macro\")\n",
    "print(\"F1 score:\", f1)\n",
    "\n",
    "# # Compute the log-loss\n",
    "# ll = log_loss(y_true, y_pred, labels=[0, 1, 2, 3, 4])\n",
    "# print(\"Log-loss:\", ll)\n",
    "\n",
    "# # Compute the AUC-ROC\n",
    "# auc = roc_auc_score(y_true, y_pred, average=\"macro\", multi_class=\"ovr\")\n",
    "# print(\"AUC-ROC:\", auc)\n"
   ]
  },
  {
   "cell_type": "code",
   "execution_count": null,
   "metadata": {},
   "outputs": [],
   "source": []
  }
 ],
 "metadata": {
  "kernelspec": {
   "display_name": ".venv",
   "language": "python",
   "name": "python3"
  },
  "language_info": {
   "codemirror_mode": {
    "name": "ipython",
    "version": 3
   },
   "file_extension": ".py",
   "mimetype": "text/x-python",
   "name": "python",
   "nbconvert_exporter": "python",
   "pygments_lexer": "ipython3",
   "version": "3.9.13"
  },
  "orig_nbformat": 4
 },
 "nbformat": 4,
 "nbformat_minor": 2
}
