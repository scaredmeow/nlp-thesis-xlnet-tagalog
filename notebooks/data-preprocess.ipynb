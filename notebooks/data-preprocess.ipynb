{
 "cells": [
  {
   "attachments": {},
   "cell_type": "markdown",
   "metadata": {},
   "source": [
    "# Loading Libraries and Data"
   ]
  },
  {
   "attachments": {},
   "cell_type": "markdown",
   "metadata": {},
   "source": [
    "## Loading Libraries"
   ]
  },
  {
   "cell_type": "code",
   "execution_count": null,
   "metadata": {},
   "outputs": [],
   "source": [
    "import dask.dataframe as dd\n",
    "import pandas as pd"
   ]
  },
  {
   "attachments": {},
   "cell_type": "markdown",
   "metadata": {},
   "source": [
    "## Loading Data"
   ]
  },
  {
   "cell_type": "code",
   "execution_count": null,
   "metadata": {},
   "outputs": [],
   "source": [
    "dtypes = {\"userid\": \"int\", \"username\": \"str\", \"item\": \"str\", \"item_type\": \"int\",\"comment\": \"str\",\n",
    "          \"rating\": \"int\", \"product_quality\": \"object\", \"seller_service\": \"object\",\n",
    "          \"delivery_service\": \"object\", \"has_template_tag\": \"bool\", \"template_tags\": \"object\",\n",
    "          \"tags\": \"object\", \"is_oversea\": \"bool\", \"origin_region\": \"str\", \"like_count\": \"object\",\n",
    "          \"is_repeated_purchase\": \"bool\", \"exclude_scoring_due_low_logistic\": \"bool\"}\n",
    "\n",
    "reviews_dd = dd.read_csv(\n",
    "    \"../data/*/*.csv\",\n",
    "    blocksize='25MB',\n",
    "    dtype=dtypes,\n",
    ")"
   ]
  },
  {
   "cell_type": "code",
   "execution_count": null,
   "metadata": {},
   "outputs": [],
   "source": [
    "df = reviews_dd.compute()\n",
    "df.head(3)"
   ]
  },
  {
   "attachments": {},
   "cell_type": "markdown",
   "metadata": {},
   "source": [
    "# Exploratory Data Analysis - Preprocessing"
   ]
  },
  {
   "attachments": {},
   "cell_type": "markdown",
   "metadata": {},
   "source": [
    "## EDA"
   ]
  },
  {
   "cell_type": "code",
   "execution_count": null,
   "metadata": {},
   "outputs": [],
   "source": [
    "from dataprep.eda import *\n",
    "# create_report(df, title=\"Shopee Reviews EDA Report\").show()\n"
   ]
  },
  {
   "cell_type": "code",
   "execution_count": null,
   "metadata": {},
   "outputs": [],
   "source": [
    "df.drop_duplicates(inplace=True)\n",
    "df.dropna(subset=['comment'], inplace=True)\n",
    "df.dropna(subset=['template_tags'], inplace=True)\n",
    "\n",
    "df['ctime'] = pd.to_datetime(df['ctime'], unit='s')\n",
    "df.info()"
   ]
  },
  {
   "cell_type": "code",
   "execution_count": null,
   "metadata": {},
   "outputs": [],
   "source": [
    "dataset = df[[\"userid\",\"item_type\",\"comment\",\"template_tags\",\"rating\",\"product_quality\",\"origin_region\"]]\n",
    "dataset.head(5)"
   ]
  },
  {
   "cell_type": "code",
   "execution_count": null,
   "metadata": {},
   "outputs": [],
   "source": [
    "dataset[\"origin_region\"].value_counts()"
   ]
  },
  {
   "cell_type": "code",
   "execution_count": null,
   "metadata": {},
   "outputs": [],
   "source": [
    "dataset[dataset[\"origin_region\"]!= \"ph\"]['item_type'].unique()"
   ]
  },
  {
   "cell_type": "code",
   "execution_count": null,
   "metadata": {},
   "outputs": [],
   "source": [
    "dataset[dataset[\"origin_region\"]!= \"ph\"]['comment'].tolist()[:5]"
   ]
  },
  {
   "cell_type": "code",
   "execution_count": null,
   "metadata": {},
   "outputs": [],
   "source": [
    "dataset.count()"
   ]
  },
  {
   "cell_type": "code",
   "execution_count": null,
   "metadata": {},
   "outputs": [],
   "source": [
    "dataset = dataset[dataset[\"origin_region\"] == \"ph\"]\n",
    "dataset.drop(columns=[\"origin_region\"], inplace=True)\n",
    "dataset.count()"
   ]
  },
  {
   "cell_type": "code",
   "execution_count": null,
   "metadata": {},
   "outputs": [],
   "source": [
    "dataset.head(3)"
   ]
  },
  {
   "attachments": {},
   "cell_type": "markdown",
   "metadata": {},
   "source": [
    "## Pre-processing - Template Tags"
   ]
  },
  {
   "cell_type": "code",
   "execution_count": null,
   "metadata": {},
   "outputs": [],
   "source": [
    "import ast\n",
    "template_tags = []\n",
    "for i in [ast.literal_eval(i) for i in dataset['template_tags'].unique().tolist()]:\n",
    "    template_tags.extend(i)\n",
    "template_tags"
   ]
  },
  {
   "cell_type": "code",
   "execution_count": null,
   "metadata": {},
   "outputs": [],
   "source": [
    "template_tags = list(set(template_tags))\n",
    "template_tags.remove(\"Beauty Effect)\")"
   ]
  },
  {
   "cell_type": "code",
   "execution_count": null,
   "metadata": {},
   "outputs": [],
   "source": [
    "string = dataset[\"comment\"].iloc[2]\n",
    "string"
   ]
  },
  {
   "cell_type": "code",
   "execution_count": null,
   "metadata": {},
   "outputs": [],
   "source": [
    "dataset.head(3)"
   ]
  },
  {
   "cell_type": "markdown",
   "metadata": {},
   "source": [
    "## Data Transformation/Feature Extraction using template tags"
   ]
  },
  {
   "cell_type": "code",
   "execution_count": null,
   "metadata": {},
   "outputs": [],
   "source": [
    "import re\n",
    "import numpy as np\n",
    "for template in template_tags:\n",
    "    dataset[template] = dataset['comment'].apply(lambda comment: re.sub(f\"\\\\n\",\"\",re.sub(f\"{template}\\:\",\"\",re.findall(f\"{template}\\:.*?\\\\n\",comment)[0])) if (comment.find(template) != -1 and len(re.findall(f\"{template}\\:.*?\\\\n\",comment))>0) else np.nan)\n",
    "\n",
    "dataset.head(3)"
   ]
  },
  {
   "cell_type": "code",
   "execution_count": null,
   "metadata": {},
   "outputs": [],
   "source": [
    "dataset['comment_no_tags'] = dataset['comment']\n",
    "for _ in range(10):\n",
    "    dataset['comment_no_tags'] = dataset['comment_no_tags'].apply(lambda comment: re.sub(f\"^({'|'.join(template_tags)})\\:.*(\\\\n)*\",\"\",comment))\n",
    "dataset['comment_no_tags']"
   ]
  },
  {
   "cell_type": "code",
   "execution_count": null,
   "metadata": {},
   "outputs": [],
   "source": [
    "dataset.drop(columns=[\"template_tags\"], inplace=True)\n",
    "dataset = dataset.assign(userid=range(len(dataset)))\n",
    "dataset.rename(columns={\"userid\":\"id\"},inplace=True)\n",
    "dataset.head(3)"
   ]
  },
  {
   "cell_type": "code",
   "execution_count": null,
   "metadata": {},
   "outputs": [],
   "source": [
    "dataset.reset_index(drop=True, inplace=True)\n",
    "dataset.head(3)"
   ]
  },
  {
   "attachments": {},
   "cell_type": "markdown",
   "metadata": {},
   "source": [
    "## Pre-processing Comments without Tags"
   ]
  },
  {
   "cell_type": "code",
   "execution_count": null,
   "metadata": {},
   "outputs": [],
   "source": [
    "subset_comment = dataset[[\"id\",\"comment\",\"comment_no_tags\"]]\n",
    "subset_comment.head(3)"
   ]
  },
  {
   "cell_type": "code",
   "execution_count": null,
   "metadata": {},
   "outputs": [],
   "source": [
    "import emoji\n",
    "\n",
    "def clean(comment):\n",
    "    comment = str(comment)\n",
    "    comment = comment.lower()\n",
    "    comment = \" \".join(comment.split()).strip()\n",
    "    comment = emoji.replace_emoji(comment,'')\n",
    "    comment = re.sub(r\"\\\\n\", \" \", comment) # \\n / newline\n",
    "    comment = re.sub(r\"https?://[^\\s]+?\\.[a-z]{2,6}\",\"\",comment) # Web Links\n",
    "    comment = re.sub(r\"\\B[^a-zA-Z]+\\B\",\"\",comment) # Punctuations\n",
    "    comment = comment.strip()\n",
    "    return comment"
   ]
  },
  {
   "cell_type": "code",
   "execution_count": null,
   "metadata": {},
   "outputs": [],
   "source": [
    "tester = dataset['comment_no_tags'][0]\n",
    "tester"
   ]
  },
  {
   "cell_type": "code",
   "execution_count": null,
   "metadata": {},
   "outputs": [],
   "source": [
    "clean(tester)\n",
    "clean(\"The cat sw👈🎉eat on 🤩🫰🤩the 🤩 mathttps://facebook.com 🤩🤩.\")"
   ]
  },
  {
   "cell_type": "code",
   "execution_count": null,
   "metadata": {},
   "outputs": [],
   "source": [
    "subset_comment[\"comment_cleaned\"] = subset_comment[\"comment_no_tags\"].apply(clean)\n",
    "subset_comment.head(3)"
   ]
  },
  {
   "cell_type": "code",
   "execution_count": null,
   "metadata": {},
   "outputs": [],
   "source": [
    "subset_comment.loc[384]"
   ]
  },
  {
   "cell_type": "code",
   "execution_count": null,
   "metadata": {},
   "outputs": [],
   "source": [
    "subset_comment.comment_cleaned.duplicated().value_counts()"
   ]
  },
  {
   "cell_type": "code",
   "execution_count": null,
   "metadata": {},
   "outputs": [],
   "source": [
    "subset_comment[subset_comment.comment_cleaned.duplicated()].head(50)"
   ]
  },
  {
   "cell_type": "code",
   "execution_count": null,
   "metadata": {},
   "outputs": [],
   "source": [
    "subset_comment.loc[287].comment"
   ]
  },
  {
   "cell_type": "code",
   "execution_count": null,
   "metadata": {},
   "outputs": [],
   "source": [
    "subset_comment[subset_comment.comment_no_tags == \"\"].comment.tolist()"
   ]
  },
  {
   "cell_type": "code",
   "execution_count": null,
   "metadata": {},
   "outputs": [],
   "source": [
    "subset_comment.drop_duplicates(subset=[\"comment_cleaned\"], inplace=True)\n",
    "subset_comment.comment_cleaned.duplicated().value_counts()"
   ]
  },
  {
   "cell_type": "code",
   "execution_count": null,
   "metadata": {},
   "outputs": [],
   "source": [
    "subset_comment = subset_comment.drop(index=[subset_comment[subset_comment[\"comment_cleaned\"] == \"\"].index[0]])"
   ]
  },
  {
   "cell_type": "code",
   "execution_count": null,
   "metadata": {},
   "outputs": [],
   "source": [
    "subset_comment[subset_comment.comment_cleaned == \"\"]"
   ]
  },
  {
   "cell_type": "code",
   "execution_count": null,
   "metadata": {},
   "outputs": [],
   "source": [
    "subset_comment"
   ]
  },
  {
   "cell_type": "code",
   "execution_count": null,
   "metadata": {},
   "outputs": [],
   "source": [
    "subset_comment.comment_cleaned.tolist()"
   ]
  },
  {
   "attachments": {},
   "cell_type": "markdown",
   "metadata": {},
   "source": [
    "## Data Cleaning using Language Detection"
   ]
  }
 ],
 "metadata": {
  "kernelspec": {
   "display_name": "venv",
   "language": "python",
   "name": "python3"
  },
  "language_info": {
   "codemirror_mode": {
    "name": "ipython",
    "version": 3
   },
   "file_extension": ".py",
   "mimetype": "text/x-python",
   "name": "python",
   "nbconvert_exporter": "python",
   "pygments_lexer": "ipython3",
   "version": "3.9.13"
  },
  "orig_nbformat": 4
 },
 "nbformat": 4,
 "nbformat_minor": 2
}
