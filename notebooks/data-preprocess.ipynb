{
 "cells": [
  {
   "attachments": {},
   "cell_type": "markdown",
   "metadata": {},
   "source": [
    "# Loading Libraries and Data"
   ]
  },
  {
   "cell_type": "code",
   "execution_count": null,
   "metadata": {},
   "outputs": [],
   "source": [
    "import dask.dataframe as dd"
   ]
  },
  {
   "attachments": {},
   "cell_type": "markdown",
   "metadata": {},
   "source": [
    "## Loading Data"
   ]
  },
  {
   "cell_type": "code",
   "execution_count": null,
   "metadata": {},
   "outputs": [],
   "source": [
    "dtypes = {\"userid\": \"int\", \"username\": \"str\", \"item\": \"str\", \"item_type\": \"int\",\"comment\": \"str\",\n",
    "          \"rating\": \"int\", \"product_quality\": \"object\", \"seller_service\": \"object\",\n",
    "          \"delivery_service\": \"object\", \"has_template_tag\": \"bool\", \"template_tags\": \"object\",\n",
    "          \"tags\": \"object\", \"is_oversea\": \"bool\", \"origin_region\": \"str\", \"like_count\": \"object\",\n",
    "          \"is_repeated_purchase\": \"bool\", \"exclude_scoring_due_low_logistic\": \"bool\"}\n",
    "\n",
    "reviews_dd = dd.read_csv(\n",
    "    \"../data/*/*.csv\",\n",
    "    blocksize='25MB',\n",
    "    dtype=dtypes,\n",
    ")"
   ]
  },
  {
   "cell_type": "code",
   "execution_count": null,
   "metadata": {},
   "outputs": [],
   "source": [
    "df = reviews_dd.compute()\n",
    "df.head(3)"
   ]
  },
  {
   "attachments": {},
   "cell_type": "markdown",
   "metadata": {},
   "source": [
    "## Exploratory Data Analysis"
   ]
  },
  {
   "cell_type": "code",
   "execution_count": null,
   "metadata": {},
   "outputs": [],
   "source": [
    "from dataprep.eda import *\n",
    "report = create_report(reviews_dd.compute(), title=\"Shopee Reviews EDA Report\")\n",
    "report.show_browser()"
   ]
  }
 ],
 "metadata": {
  "kernelspec": {
   "display_name": "venv",
   "language": "python",
   "name": "python3"
  },
  "language_info": {
   "codemirror_mode": {
    "name": "ipython",
    "version": 3
   },
   "file_extension": ".py",
   "mimetype": "text/x-python",
   "name": "python",
   "nbconvert_exporter": "python",
   "pygments_lexer": "ipython3",
   "version": "3.9.13"
  },
  "orig_nbformat": 4
 },
 "nbformat": 4,
 "nbformat_minor": 2
}
