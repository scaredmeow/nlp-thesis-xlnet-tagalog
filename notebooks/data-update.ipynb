{
 "cells": [
  {
   "cell_type": "code",
   "execution_count": 45,
   "metadata": {},
   "outputs": [
    {
     "data": {
      "text/plain": [
       "label\n",
       "0    450\n",
       "1    450\n",
       "2    450\n",
       "3    450\n",
       "4    450\n",
       "dtype: int64"
      ]
     },
     "execution_count": 45,
     "metadata": {},
     "output_type": "execute_result"
    }
   ],
   "source": [
    "import pandas as pd\n",
    "\n",
    "test = pd.read_csv(\"../data/dataset/test2.csv\")\n",
    "train = pd.read_csv(\"../data/dataset/train_update.csv\")\n",
    "validation = pd.read_csv(\"../data/dataset/validation2.csv\")\n",
    "\n",
    "validation.value_counts(\"label\")\n",
    "\n",
    "\n",
    "# pd.concat([test, pd.get_dummies(test[\"label\"])], axis=1).drop(columns=[\"label\"]).rename(\n",
    "#     columns={\"msg\": \"text\"}\n",
    "# ).to_csv(\"../data/dataset/test2_updated.csv\", index=False)\n",
    "# pd.concat([train, pd.get_dummies(train[\"label\"])], axis=1).drop(\n",
    "#     columns=[\"label\"]\n",
    "# ).rename(columns={\"msg\": \"text\"}).to_csv(\n",
    "#     \"../data/dataset/train2_updated.csv\", index=False\n",
    "# )\n",
    "# pd.concat([validation, pd.get_dummies(validation[\"label\"])], axis=1).drop(\n",
    "#     columns=[\"label\"]\n",
    "# ).rename(columns={\"msg\": \"text\"}).to_csv(\n",
    "#     \"../data/dataset/validation2_updated.csv\", index=False\n",
    "# )\n"
   ]
  },
  {
   "cell_type": "code",
   "execution_count": 44,
   "metadata": {},
   "outputs": [],
   "source": [
    "train.to_csv(\n",
    "    \"../data/dataset/train_update.csv\", index=False\n",
    ")"
   ]
  },
  {
   "cell_type": "code",
   "execution_count": 18,
   "metadata": {},
   "outputs": [
    {
     "data": {
      "text/plain": [
       "label  msg\n",
       "0      0.0    2100\n",
       "1      0.0    2100\n",
       "2      0.0    2100\n",
       "4      0.0    2100\n",
       "3      0.0    2099\n",
       "dtype: int64"
      ]
     },
     "execution_count": 18,
     "metadata": {},
     "output_type": "execute_result"
    }
   ],
   "source": [
    "import re\n",
    "train.msg = train.msg.apply(lambda x: 0 if isinstance(x,str) else x)\n",
    "train.value_counts()"
   ]
  },
  {
   "cell_type": "code",
   "execution_count": 24,
   "metadata": {},
   "outputs": [
    {
     "name": "stderr",
     "output_type": "stream",
     "text": [
      "C:\\Users\\Neilc\\AppData\\Local\\Temp\\ipykernel_4252\\3508538078.py:1: SettingWithCopyWarning: \n",
      "A value is trying to be set on a copy of a slice from a DataFrame.\n",
      "Try using .loc[row_indexer,col_indexer] = value instead\n",
      "\n",
      "See the caveats in the documentation: https://pandas.pydata.org/pandas-docs/stable/user_guide/indexing.html#returning-a-view-versus-a-copy\n",
      "  train[train.msg.isna()].msg = \"4 stars dahil hindi nasunod yung color na napili at wala sa choicessuggest ko po kay seller add choices ng colors, chat si buyer na hindi available color, maganda tela makapal naman. pang girl siya. sizing was true measure muna waistline para sure sa oordering size. di yung isisisi kay seller\"\n"
     ]
    }
   ],
   "source": [
    "train[train.msg.isna()].msg = \"4 stars dahil hindi nasunod yung color na napili at wala sa choicessuggest ko po kay seller add choices ng colors, chat si buyer na hindi available color, maganda tela makapal naman. pang girl siya. sizing was true measure muna waistline para sure sa oordering size. di yung isisisi kay seller\""
   ]
  },
  {
   "cell_type": "code",
   "execution_count": 41,
   "metadata": {},
   "outputs": [],
   "source": [
    "train.at[823,\"text\"] = \"4 stars dahil hindi nasunod yung color na napili at wala sa choicessuggest ko po kay seller add choices ng colors, chat si buyer na hindi available color, maganda tela makapal naman. pang girl siya. sizing was true measure muna waistline para sure sa oordering size. di yung isisisi kay seller\""
   ]
  },
  {
   "cell_type": "code",
   "execution_count": 46,
   "metadata": {},
   "outputs": [
    {
     "data": {
      "text/html": [
       "<div>\n",
       "<style scoped>\n",
       "    .dataframe tbody tr th:only-of-type {\n",
       "        vertical-align: middle;\n",
       "    }\n",
       "\n",
       "    .dataframe tbody tr th {\n",
       "        vertical-align: top;\n",
       "    }\n",
       "\n",
       "    .dataframe thead th {\n",
       "        text-align: right;\n",
       "    }\n",
       "</style>\n",
       "<table border=\"1\" class=\"dataframe\">\n",
       "  <thead>\n",
       "    <tr style=\"text-align: right;\">\n",
       "      <th></th>\n",
       "      <th>text</th>\n",
       "      <th>0</th>\n",
       "      <th>1</th>\n",
       "      <th>2</th>\n",
       "      <th>3</th>\n",
       "      <th>4</th>\n",
       "    </tr>\n",
       "  </thead>\n",
       "  <tbody>\n",
       "  </tbody>\n",
       "</table>\n",
       "</div>"
      ],
      "text/plain": [
       "Empty DataFrame\n",
       "Columns: [text, 0, 1, 2, 3, 4]\n",
       "Index: []"
      ]
     },
     "execution_count": 46,
     "metadata": {},
     "output_type": "execute_result"
    }
   ],
   "source": [
    "train[train.text.isna()]"
   ]
  },
  {
   "cell_type": "code",
   "execution_count": 47,
   "metadata": {},
   "outputs": [
    {
     "data": {
      "text/html": [
       "<div>\n",
       "<style scoped>\n",
       "    .dataframe tbody tr th:only-of-type {\n",
       "        vertical-align: middle;\n",
       "    }\n",
       "\n",
       "    .dataframe tbody tr th {\n",
       "        vertical-align: top;\n",
       "    }\n",
       "\n",
       "    .dataframe thead th {\n",
       "        text-align: right;\n",
       "    }\n",
       "</style>\n",
       "<table border=\"1\" class=\"dataframe\">\n",
       "  <thead>\n",
       "    <tr style=\"text-align: right;\">\n",
       "      <th></th>\n",
       "      <th>text</th>\n",
       "      <th>0</th>\n",
       "      <th>1</th>\n",
       "      <th>2</th>\n",
       "      <th>3</th>\n",
       "      <th>4</th>\n",
       "    </tr>\n",
       "  </thead>\n",
       "  <tbody>\n",
       "    <tr>\n",
       "      <th>0</th>\n",
       "      <td>A cute niya umiilaw nman siya. I will order ag...</td>\n",
       "      <td>0</td>\n",
       "      <td>0</td>\n",
       "      <td>0</td>\n",
       "      <td>0</td>\n",
       "      <td>1</td>\n",
       "    </tr>\n",
       "    <tr>\n",
       "      <th>1</th>\n",
       "      <td>First time order sa shop nato at di ko inakala...</td>\n",
       "      <td>0</td>\n",
       "      <td>0</td>\n",
       "      <td>0</td>\n",
       "      <td>0</td>\n",
       "      <td>1</td>\n",
       "    </tr>\n",
       "    <tr>\n",
       "      <th>2</th>\n",
       "      <td>Madaling masira yung sa may sinisintasan nya. ...</td>\n",
       "      <td>0</td>\n",
       "      <td>0</td>\n",
       "      <td>1</td>\n",
       "      <td>0</td>\n",
       "      <td>0</td>\n",
       "    </tr>\n",
       "    <tr>\n",
       "      <th>3</th>\n",
       "      <td>Maganda naman sya mas malaki lang sa ineexpect...</td>\n",
       "      <td>0</td>\n",
       "      <td>0</td>\n",
       "      <td>0</td>\n",
       "      <td>0</td>\n",
       "      <td>1</td>\n",
       "    </tr>\n",
       "    <tr>\n",
       "      <th>4</th>\n",
       "      <td>All goods na tester q 1. 2v ngalang pro ok Nam...</td>\n",
       "      <td>0</td>\n",
       "      <td>0</td>\n",
       "      <td>0</td>\n",
       "      <td>0</td>\n",
       "      <td>1</td>\n",
       "    </tr>\n",
       "    <tr>\n",
       "      <th>...</th>\n",
       "      <td>...</td>\n",
       "      <td>...</td>\n",
       "      <td>...</td>\n",
       "      <td>...</td>\n",
       "      <td>...</td>\n",
       "      <td>...</td>\n",
       "    </tr>\n",
       "    <tr>\n",
       "      <th>10495</th>\n",
       "      <td>Kulang ng isa order namen i wont recommend thi...</td>\n",
       "      <td>1</td>\n",
       "      <td>0</td>\n",
       "      <td>0</td>\n",
       "      <td>0</td>\n",
       "      <td>0</td>\n",
       "    </tr>\n",
       "    <tr>\n",
       "      <th>10496</th>\n",
       "      <td>Medyo matagal dumating, but okay naman and amo...</td>\n",
       "      <td>0</td>\n",
       "      <td>0</td>\n",
       "      <td>0</td>\n",
       "      <td>1</td>\n",
       "      <td>0</td>\n",
       "    </tr>\n",
       "    <tr>\n",
       "      <th>10497</th>\n",
       "      <td>Fast delivery i thought malakas sia, mahina pa...</td>\n",
       "      <td>0</td>\n",
       "      <td>0</td>\n",
       "      <td>1</td>\n",
       "      <td>0</td>\n",
       "      <td>0</td>\n",
       "    </tr>\n",
       "    <tr>\n",
       "      <th>10498</th>\n",
       "      <td>ok sana yung shade maganda but too creamy lang...</td>\n",
       "      <td>0</td>\n",
       "      <td>1</td>\n",
       "      <td>0</td>\n",
       "      <td>0</td>\n",
       "      <td>0</td>\n",
       "    </tr>\n",
       "    <tr>\n",
       "      <th>10499</th>\n",
       "      <td>Maganda ung quality ng items laptop case bluet...</td>\n",
       "      <td>0</td>\n",
       "      <td>0</td>\n",
       "      <td>1</td>\n",
       "      <td>0</td>\n",
       "      <td>0</td>\n",
       "    </tr>\n",
       "  </tbody>\n",
       "</table>\n",
       "<p>10500 rows × 6 columns</p>\n",
       "</div>"
      ],
      "text/plain": [
       "                                                    text  0  1  2  3  4\n",
       "0      A cute niya umiilaw nman siya. I will order ag...  0  0  0  0  1\n",
       "1      First time order sa shop nato at di ko inakala...  0  0  0  0  1\n",
       "2      Madaling masira yung sa may sinisintasan nya. ...  0  0  1  0  0\n",
       "3      Maganda naman sya mas malaki lang sa ineexpect...  0  0  0  0  1\n",
       "4      All goods na tester q 1. 2v ngalang pro ok Nam...  0  0  0  0  1\n",
       "...                                                  ... .. .. .. .. ..\n",
       "10495  Kulang ng isa order namen i wont recommend thi...  1  0  0  0  0\n",
       "10496  Medyo matagal dumating, but okay naman and amo...  0  0  0  1  0\n",
       "10497  Fast delivery i thought malakas sia, mahina pa...  0  0  1  0  0\n",
       "10498  ok sana yung shade maganda but too creamy lang...  0  1  0  0  0\n",
       "10499  Maganda ung quality ng items laptop case bluet...  0  0  1  0  0\n",
       "\n",
       "[10500 rows x 6 columns]"
      ]
     },
     "execution_count": 47,
     "metadata": {},
     "output_type": "execute_result"
    }
   ],
   "source": [
    "train"
   ]
  }
 ],
 "metadata": {
  "kernelspec": {
   "display_name": "venv",
   "language": "python",
   "name": "python3"
  },
  "language_info": {
   "codemirror_mode": {
    "name": "ipython",
    "version": 3
   },
   "file_extension": ".py",
   "mimetype": "text/x-python",
   "name": "python",
   "nbconvert_exporter": "python",
   "pygments_lexer": "ipython3",
   "version": "3.9.13"
  },
  "orig_nbformat": 4
 },
 "nbformat": 4,
 "nbformat_minor": 2
}
