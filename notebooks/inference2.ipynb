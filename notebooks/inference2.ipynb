{
 "cells": [
  {
   "cell_type": "code",
   "execution_count": null,
   "metadata": {},
   "outputs": [],
   "source": [
    "%%capture\n",
    "import wandb\n",
    "\n",
    "# initialize wandb\n",
    "wandb.init(project=\"final-finetuning\", name=\"5th-run\")"
   ]
  },
  {
   "cell_type": "code",
   "execution_count": null,
   "metadata": {},
   "outputs": [],
   "source": [
    "# Dataset Loading\n",
    "\n",
    "%%capture\n",
    "from datasets import load_dataset\n",
    "\n",
    "dataset = load_dataset(\"scaredmeow/shopee-reviews-tl-binary\")\n"
   ]
  },
  {
   "cell_type": "code",
   "execution_count": 1,
   "metadata": {},
   "outputs": [],
   "source": [
    "import pandas as pd\n",
    "\n",
    "train = pd.read_csv(\"../data/hatespeech/train.csv\")\n",
    "test = pd.read_csv(\"../data/hatespeech/test.csv\")\n",
    "validation = pd.read_csv(\"../data/hatespeech/valid.csv\")\n"
   ]
  },
  {
   "cell_type": "code",
   "execution_count": 2,
   "metadata": {},
   "outputs": [
    {
     "name": "stderr",
     "output_type": "stream",
     "text": [
      "Asking to truncate to max_length but no maximum length is provided and the model has no predefined maximum length. Default to no truncation.\n"
     ]
    }
   ],
   "source": [
    "from transformers import AutoTokenizer, AutoModelForSequenceClassification\n",
    "import torch\n",
    "\n",
    "pretrained = \"../models/finetuned-hatespeech-xlnet\"\n",
    "tokenizer = AutoTokenizer.from_pretrained(pretrained)\n",
    "model = AutoModelForSequenceClassification.from_pretrained(pretrained, num_labels=2)\n",
    "# model = AutoModelForSequenceClassification.from_pretrained(pretrained, problem_type='multi_label_classification',num_labels=2, label2id={0:0,1:1},id2label={0:0,1:1})\n",
    "\n",
    "\n",
    "inputs = tokenizer(\n",
    "    validation.text.tolist()[:50], return_tensors=\"pt\", padding=True, truncation=True\n",
    ")\n",
    "\n",
    "\n",
    "with torch.no_grad():\n",
    "    out = model(**inputs)\n",
    "\n",
    "# pred_ix = out['logits'][0, 7].argmax()\n",
    "# pred = tokenizer.convert_ids_to_tokens([pred_ix])[0]\n"
   ]
  },
  {
   "cell_type": "code",
   "execution_count": 3,
   "metadata": {},
   "outputs": [],
   "source": [
    "import numpy as np\n",
    "\n",
    "pred = np.argmax(out.logits, axis=1).tolist()\n",
    "true = validation.label.tolist()[:50]\n"
   ]
  },
  {
   "cell_type": "code",
   "execution_count": 4,
   "metadata": {},
   "outputs": [
    {
     "data": {
      "image/png": "[encoded data removed]",
      "text/plain": [
       "<Figure size 640x480 with 2 Axes>"
      ]
     },
     "metadata": {},
     "output_type": "display_data"
    },
    {
     "name": "stdout",
     "output_type": "stream",
     "text": [
      "Accuracy: 0.58\n",
      "Precision: 0.29\n",
      "Recall: 0.5\n",
      "F1 score: 0.36708860759493667\n"
     ]
    },
    {
     "name": "stderr",
     "output_type": "stream",
     "text": [
      "c:\\Users\\Neilc\\dev\\proj\\nlp-thesis-xlnet-tagalog\\.venv\\lib\\site-packages\\sklearn\\metrics\\_classification.py:1344: UndefinedMetricWarning: Precision is ill-defined and being set to 0.0 in labels with no predicted samples. Use `zero_division` parameter to control this behavior.\n",
      "  _warn_prf(average, modifier, msg_start, len(result))\n"
     ]
    }
   ],
   "source": [
    "import matplotlib.pyplot as plt\n",
    "from sklearn.metrics import (\n",
    "    accuracy_score,\n",
    "    precision_score,\n",
    "    recall_score,\n",
    "    f1_score,\n",
    "    confusion_matrix,\n",
    "    ConfusionMatrixDisplay,\n",
    ")\n",
    "\n",
    "# Compute the confusion matrix\n",
    "cm = confusion_matrix(true, pred, labels=[0, 1])\n",
    "disp = ConfusionMatrixDisplay(confusion_matrix=cm, display_labels=[0, 1])\n",
    "disp.plot()\n",
    "plt.show()\n",
    "\n",
    "# Compute the accuracy\n",
    "acc = accuracy_score(true, pred)\n",
    "print(\"Accuracy:\", acc)\n",
    "\n",
    "# Compute the precision\n",
    "prec = precision_score(true, pred, average=\"macro\")\n",
    "print(\"Precision:\", prec)\n",
    "\n",
    "# Compute the recall\n",
    "rec = recall_score(true, pred, average=\"macro\")\n",
    "print(\"Recall:\", rec)\n",
    "\n",
    "# Compute the f1 score\n",
    "f1 = f1_score(true, pred, average=\"macro\")\n",
    "print(\"F1 score:\", f1)\n",
    "\n",
    "# # Compute the log-loss\n",
    "# ll = log_loss(true, pred, labels=[0, 1, 2, 3, 4])\n",
    "# print(\"Log-loss:\", ll)\n",
    "\n",
    "# # Compute the AUC-ROC\n",
    "# auc = roc_auc_score(true, pred, average=\"macro\", multi_class=\"ovr\")\n",
    "# print(\"AUC-ROC:\", auc)\n"
   ]
  }
 ],
 "metadata": {
  "kernelspec": {
   "display_name": ".venv",
   "language": "python",
   "name": "python3"
  },
  "language_info": {
   "codemirror_mode": {
    "name": "ipython",
    "version": 3
   },
   "file_extension": ".py",
   "mimetype": "text/x-python",
   "name": "python",
   "nbconvert_exporter": "python",
   "pygments_lexer": "ipython3",
   "version": "3.9.13"
  },
  "orig_nbformat": 4
 },
 "nbformat": 4,
 "nbformat_minor": 2
}
