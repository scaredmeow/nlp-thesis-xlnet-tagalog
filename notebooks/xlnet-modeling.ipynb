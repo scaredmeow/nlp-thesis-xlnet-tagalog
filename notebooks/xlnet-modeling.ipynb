{
 "cells": [
  {
   "attachments": {},
   "cell_type": "markdown",
   "metadata": {},
   "source": [
    "# Loading Libraries and Data\n"
   ]
  },
  {
   "attachments": {},
   "cell_type": "markdown",
   "metadata": {},
   "source": [
    "## Loading Libraries\n"
   ]
  },
  {
   "cell_type": "code",
   "execution_count": 13,
   "metadata": {},
   "outputs": [],
   "source": [
    "import pandas as pd"
   ]
  },
  {
   "attachments": {},
   "cell_type": "markdown",
   "metadata": {},
   "source": [
    "## Loading Data\n"
   ]
  },
  {
   "cell_type": "code",
   "execution_count": 14,
   "metadata": {},
   "outputs": [
    {
     "data": {
      "text/html": [
       "<div>\n",
       "<style scoped>\n",
       "    .dataframe tbody tr th:only-of-type {\n",
       "        vertical-align: middle;\n",
       "    }\n",
       "\n",
       "    .dataframe tbody tr th {\n",
       "        vertical-align: top;\n",
       "    }\n",
       "\n",
       "    .dataframe thead th {\n",
       "        text-align: right;\n",
       "    }\n",
       "</style>\n",
       "<table border=\"1\" class=\"dataframe\">\n",
       "  <thead>\n",
       "    <tr style=\"text-align: right;\">\n",
       "      <th></th>\n",
       "      <th>id</th>\n",
       "      <th>comment</th>\n",
       "      <th>comment_no_tags</th>\n",
       "      <th>comment_cleaned_uncased</th>\n",
       "      <th>comment_cleaned_cased</th>\n",
       "      <th>lang</th>\n",
       "      <th>rating</th>\n",
       "      <th>product_quality</th>\n",
       "      <th>Material Quality</th>\n",
       "      <th>Best Feature</th>\n",
       "      <th>...</th>\n",
       "      <th>Occasion</th>\n",
       "      <th>Usage Experience</th>\n",
       "      <th>Quality</th>\n",
       "      <th>Product Quality</th>\n",
       "      <th>Texture</th>\n",
       "      <th>Value For Money</th>\n",
       "      <th>Received</th>\n",
       "      <th>Ordered</th>\n",
       "      <th>Seller</th>\n",
       "      <th>Delivery</th>\n",
       "    </tr>\n",
       "  </thead>\n",
       "  <tbody>\n",
       "    <tr>\n",
       "      <th>0</th>\n",
       "      <td>0</td>\n",
       "      <td>Colour:Black\\nMaterial Quality:Good Quality\\n\\...</td>\n",
       "      <td>True to size, and color. Maganda ang kulay, te...</td>\n",
       "      <td>true to size, and color. maganda ang kulay, te...</td>\n",
       "      <td>True to size, and color. Maganda ang kulay, te...</td>\n",
       "      <td>tl</td>\n",
       "      <td>5</td>\n",
       "      <td>5</td>\n",
       "      <td>Good Quality</td>\n",
       "      <td>NaN</td>\n",
       "      <td>...</td>\n",
       "      <td>NaN</td>\n",
       "      <td>NaN</td>\n",
       "      <td>Good Quality</td>\n",
       "      <td>NaN</td>\n",
       "      <td>NaN</td>\n",
       "      <td>NaN</td>\n",
       "      <td>NaN</td>\n",
       "      <td>NaN</td>\n",
       "      <td>NaN</td>\n",
       "      <td>NaN</td>\n",
       "    </tr>\n",
       "    <tr>\n",
       "      <th>1</th>\n",
       "      <td>1</td>\n",
       "      <td>Appearance:ok\\nColour:good\\nMaterial Quality:m...</td>\n",
       "      <td>May konting damage lang sya Ok nmn mejo makapa...</td>\n",
       "      <td>may konting damage lang sya ok nmn mejo makapa...</td>\n",
       "      <td>May konting damage lang sya Ok nmn mejo makapa...</td>\n",
       "      <td>tl</td>\n",
       "      <td>3</td>\n",
       "      <td>3</td>\n",
       "      <td>mejo manipis pero pwd na dn sa price</td>\n",
       "      <td>NaN</td>\n",
       "      <td>...</td>\n",
       "      <td>NaN</td>\n",
       "      <td>NaN</td>\n",
       "      <td>mejo manipis pero pwd na dn sa price</td>\n",
       "      <td>NaN</td>\n",
       "      <td>NaN</td>\n",
       "      <td>NaN</td>\n",
       "      <td>NaN</td>\n",
       "      <td>NaN</td>\n",
       "      <td>NaN</td>\n",
       "      <td>NaN</td>\n",
       "    </tr>\n",
       "    <tr>\n",
       "      <th>2</th>\n",
       "      <td>2</td>\n",
       "      <td>Appearance:pangit\\nColour:good\\nMaterial Quali...</td>\n",
       "      <td>manipis yung tela ngayon pangalawang order ko....</td>\n",
       "      <td>manipis yung tela ngayon pangalawang order ko....</td>\n",
       "      <td>manipis yung tela ngayon pangalawang order ko....</td>\n",
       "      <td>tl</td>\n",
       "      <td>1</td>\n",
       "      <td>1</td>\n",
       "      <td>manipis</td>\n",
       "      <td>NaN</td>\n",
       "      <td>...</td>\n",
       "      <td>NaN</td>\n",
       "      <td>NaN</td>\n",
       "      <td>manipis</td>\n",
       "      <td>NaN</td>\n",
       "      <td>NaN</td>\n",
       "      <td>NaN</td>\n",
       "      <td>NaN</td>\n",
       "      <td>NaN</td>\n",
       "      <td>NaN</td>\n",
       "      <td>NaN</td>\n",
       "    </tr>\n",
       "  </tbody>\n",
       "</table>\n",
       "<p>3 rows × 32 columns</p>\n",
       "</div>"
      ],
      "text/plain": [
       "   id                                            comment   \n",
       "0   0  Colour:Black\\nMaterial Quality:Good Quality\\n\\...  \\\n",
       "1   1  Appearance:ok\\nColour:good\\nMaterial Quality:m...   \n",
       "2   2  Appearance:pangit\\nColour:good\\nMaterial Quali...   \n",
       "\n",
       "                                     comment_no_tags   \n",
       "0  True to size, and color. Maganda ang kulay, te...  \\\n",
       "1  May konting damage lang sya Ok nmn mejo makapa...   \n",
       "2  manipis yung tela ngayon pangalawang order ko....   \n",
       "\n",
       "                             comment_cleaned_uncased   \n",
       "0  true to size, and color. maganda ang kulay, te...  \\\n",
       "1  may konting damage lang sya ok nmn mejo makapa...   \n",
       "2  manipis yung tela ngayon pangalawang order ko....   \n",
       "\n",
       "                               comment_cleaned_cased lang  rating   \n",
       "0  True to size, and color. Maganda ang kulay, te...   tl       5  \\\n",
       "1  May konting damage lang sya Ok nmn mejo makapa...   tl       3   \n",
       "2  manipis yung tela ngayon pangalawang order ko....   tl       1   \n",
       "\n",
       "   product_quality                      Material Quality Best Feature  ...   \n",
       "0                5                          Good Quality          NaN  ...  \\\n",
       "1                3  mejo manipis pero pwd na dn sa price          NaN  ...   \n",
       "2                1                               manipis          NaN  ...   \n",
       "\n",
       "  Occasion Usage Experience                               Quality   \n",
       "0      NaN              NaN                          Good Quality  \\\n",
       "1      NaN              NaN  mejo manipis pero pwd na dn sa price   \n",
       "2      NaN              NaN                               manipis   \n",
       "\n",
       "  Product Quality Texture Value For Money Received Ordered Seller Delivery  \n",
       "0             NaN     NaN             NaN      NaN     NaN    NaN      NaN  \n",
       "1             NaN     NaN             NaN      NaN     NaN    NaN      NaN  \n",
       "2             NaN     NaN             NaN      NaN     NaN    NaN      NaN  \n",
       "\n",
       "[3 rows x 32 columns]"
      ]
     },
     "execution_count": 14,
     "metadata": {},
     "output_type": "execute_result"
    }
   ],
   "source": [
    "df = pd.read_csv('../data/model-data/comment-2-orig.csv',low_memory=False)\n",
    "df.head(3)"
   ]
  },
  {
   "cell_type": "code",
   "execution_count": 17,
   "metadata": {},
   "outputs": [
    {
     "data": {
      "text/plain": [
       "rating\n",
       "5    190405\n",
       "4     10138\n",
       "3      5452\n",
       "1      4863\n",
       "2      2382\n",
       "Name: count, dtype: int64"
      ]
     },
     "execution_count": 17,
     "metadata": {},
     "output_type": "execute_result"
    }
   ],
   "source": [
    "data = df[['rating','comment_cleaned_uncased','comment_cleaned_cased']]\n",
    "\n",
    "data.rating.value_counts()"
   ]
  },
  {
   "cell_type": "code",
   "execution_count": 25,
   "metadata": {},
   "outputs": [
    {
     "data": {
      "text/html": [
       "<div>\n",
       "<style scoped>\n",
       "    .dataframe tbody tr th:only-of-type {\n",
       "        vertical-align: middle;\n",
       "    }\n",
       "\n",
       "    .dataframe tbody tr th {\n",
       "        vertical-align: top;\n",
       "    }\n",
       "\n",
       "    .dataframe thead th {\n",
       "        text-align: right;\n",
       "    }\n",
       "</style>\n",
       "<table border=\"1\" class=\"dataframe\">\n",
       "  <thead>\n",
       "    <tr style=\"text-align: right;\">\n",
       "      <th></th>\n",
       "      <th>label</th>\n",
       "      <th>msg_uncased</th>\n",
       "      <th>msg_cased</th>\n",
       "    </tr>\n",
       "  </thead>\n",
       "  <tbody>\n",
       "    <tr>\n",
       "      <th>0</th>\n",
       "      <td>5</td>\n",
       "      <td>true to size, and color. maganda ang kulay, te...</td>\n",
       "      <td>True to size, and color. Maganda ang kulay, te...</td>\n",
       "    </tr>\n",
       "    <tr>\n",
       "      <th>1</th>\n",
       "      <td>3</td>\n",
       "      <td>may konting damage lang sya ok nmn mejo makapa...</td>\n",
       "      <td>May konting damage lang sya Ok nmn mejo makapa...</td>\n",
       "    </tr>\n",
       "    <tr>\n",
       "      <th>2</th>\n",
       "      <td>1</td>\n",
       "      <td>manipis yung tela ngayon pangalawang order ko....</td>\n",
       "      <td>manipis yung tela ngayon pangalawang order ko....</td>\n",
       "    </tr>\n",
       "    <tr>\n",
       "      <th>3</th>\n",
       "      <td>5</td>\n",
       "      <td>the ietem is good it is soft and safe po dumat...</td>\n",
       "      <td>The ietem is good it is soft and safe po dumat...</td>\n",
       "    </tr>\n",
       "    <tr>\n",
       "      <th>4</th>\n",
       "      <td>5</td>\n",
       "      <td>thank you seller ang bilis dumating, hindi tul...</td>\n",
       "      <td>Thank you seller ang bilis dumating, hindi tul...</td>\n",
       "    </tr>\n",
       "    <tr>\n",
       "      <th>...</th>\n",
       "      <td>...</td>\n",
       "      <td>...</td>\n",
       "      <td>...</td>\n",
       "    </tr>\n",
       "    <tr>\n",
       "      <th>213235</th>\n",
       "      <td>5</td>\n",
       "      <td>thank youuu! nakarating ng maaga order ko!</td>\n",
       "      <td>Thank youuu! nakarating ng maaga order ko!</td>\n",
       "    </tr>\n",
       "    <tr>\n",
       "      <th>213236</th>\n",
       "      <td>5</td>\n",
       "      <td>nice quality! will surely purchase again thank...</td>\n",
       "      <td>Nice quality! Will surely purchase again thank...</td>\n",
       "    </tr>\n",
       "    <tr>\n",
       "      <th>213237</th>\n",
       "      <td>5</td>\n",
       "      <td>malaki ung flower at maganda</td>\n",
       "      <td>Malaki ung flower at maganda</td>\n",
       "    </tr>\n",
       "    <tr>\n",
       "      <th>213238</th>\n",
       "      <td>5</td>\n",
       "      <td>super realistic, salamat shopeee  order po ako...</td>\n",
       "      <td>Super realistic, salamat shopeee  order po ako...</td>\n",
       "    </tr>\n",
       "    <tr>\n",
       "      <th>213239</th>\n",
       "      <td>5</td>\n",
       "      <td>ayan pag deliver nakalabas ang mga stem sa pac...</td>\n",
       "      <td>Ayan pag deliver nakalabas ang mga stem sa pac...</td>\n",
       "    </tr>\n",
       "  </tbody>\n",
       "</table>\n",
       "<p>213240 rows × 3 columns</p>\n",
       "</div>"
      ],
      "text/plain": [
       "        label                                        msg_uncased   \n",
       "0           5  true to size, and color. maganda ang kulay, te...  \\\n",
       "1           3  may konting damage lang sya ok nmn mejo makapa...   \n",
       "2           1  manipis yung tela ngayon pangalawang order ko....   \n",
       "3           5  the ietem is good it is soft and safe po dumat...   \n",
       "4           5  thank you seller ang bilis dumating, hindi tul...   \n",
       "...       ...                                                ...   \n",
       "213235      5         thank youuu! nakarating ng maaga order ko!   \n",
       "213236      5  nice quality! will surely purchase again thank...   \n",
       "213237      5                       malaki ung flower at maganda   \n",
       "213238      5  super realistic, salamat shopeee  order po ako...   \n",
       "213239      5  ayan pag deliver nakalabas ang mga stem sa pac...   \n",
       "\n",
       "                                                msg_cased  \n",
       "0       True to size, and color. Maganda ang kulay, te...  \n",
       "1       May konting damage lang sya Ok nmn mejo makapa...  \n",
       "2       manipis yung tela ngayon pangalawang order ko....  \n",
       "3       The ietem is good it is soft and safe po dumat...  \n",
       "4       Thank you seller ang bilis dumating, hindi tul...  \n",
       "...                                                   ...  \n",
       "213235         Thank youuu! nakarating ng maaga order ko!  \n",
       "213236  Nice quality! Will surely purchase again thank...  \n",
       "213237                       Malaki ung flower at maganda  \n",
       "213238  Super realistic, salamat shopeee  order po ako...  \n",
       "213239  Ayan pag deliver nakalabas ang mga stem sa pac...  \n",
       "\n",
       "[213240 rows x 3 columns]"
      ]
     },
     "execution_count": 25,
     "metadata": {},
     "output_type": "execute_result"
    }
   ],
   "source": [
    "data = data.rename(columns={'comment_cleaned_uncased':'msg_uncased','comment_cleaned_cased':'msg_cased','rating':'label'})\n",
    "data"
   ]
  },
  {
   "cell_type": "code",
   "execution_count": 26,
   "metadata": {},
   "outputs": [
    {
     "data": {
      "text/plain": [
       "0         True to size, and color. Maganda ang kulay, te...\n",
       "1         May konting damage lang sya Ok nmn mejo makapa...\n",
       "2         manipis yung tela ngayon pangalawang order ko....\n",
       "3         The ietem is good it is soft and safe po dumat...\n",
       "4         Thank you seller ang bilis dumating, hindi tul...\n",
       "                                ...                        \n",
       "213235           Thank youuu! nakarating ng maaga order ko!\n",
       "213236    Nice quality! Will surely purchase again thank...\n",
       "213237                         Malaki ung flower at maganda\n",
       "213238    Super realistic, salamat shopeee  order po ako...\n",
       "213239    Ayan pag deliver nakalabas ang mga stem sa pac...\n",
       "Name: msg_cased, Length: 213240, dtype: object"
      ]
     },
     "execution_count": 26,
     "metadata": {},
     "output_type": "execute_result"
    }
   ],
   "source": [
    "data.msg_cased"
   ]
  },
  {
   "cell_type": "code",
   "execution_count": 27,
   "metadata": {},
   "outputs": [],
   "source": [
    "from transformers import pipeline"
   ]
  },
  {
   "cell_type": "code",
   "execution_count": 28,
   "metadata": {},
   "outputs": [
    {
     "name": "stderr",
     "output_type": "stream",
     "text": [
      "No model was supplied, defaulted to distilbert-base-uncased-finetuned-sst-2-english and revision af0f99b (https://huggingface.co/distilbert-base-uncased-finetuned-sst-2-english).\n",
      "Using a pipeline without specifying a model name and revision in production is not recommended.\n"
     ]
    },
    {
     "data": {
      "application/vnd.jupyter.widget-view+json": {
       "model_id": "aa2bcb954a084695b19abbc396aebca8",
       "version_major": 2,
       "version_minor": 0
      },
      "text/plain": [
       "Downloading (…)lve/main/config.json:   0%|          | 0.00/629 [00:00<?, ?B/s]"
      ]
     },
     "metadata": {},
     "output_type": "display_data"
    },
    {
     "data": {
      "application/vnd.jupyter.widget-view+json": {
       "model_id": "309c9a8787b74cd6a3198d35ed8783a4",
       "version_major": 2,
       "version_minor": 0
      },
      "text/plain": [
       "Downloading tf_model.h5:   0%|          | 0.00/268M [00:00<?, ?B/s]"
      ]
     },
     "metadata": {},
     "output_type": "display_data"
    },
    {
     "name": "stderr",
     "output_type": "stream",
     "text": [
      "All model checkpoint layers were used when initializing TFDistilBertForSequenceClassification.\n",
      "\n",
      "All the layers of TFDistilBertForSequenceClassification were initialized from the model checkpoint at distilbert-base-uncased-finetuned-sst-2-english.\n",
      "If your task is similar to the task the model of the checkpoint was trained on, you can already use TFDistilBertForSequenceClassification for predictions without further training.\n"
     ]
    },
    {
     "data": {
      "application/vnd.jupyter.widget-view+json": {
       "model_id": "cc7cd6b2578548cc8992f81b7c6ad4e8",
       "version_major": 2,
       "version_minor": 0
      },
      "text/plain": [
       "Downloading (…)okenizer_config.json:   0%|          | 0.00/48.0 [00:00<?, ?B/s]"
      ]
     },
     "metadata": {},
     "output_type": "display_data"
    },
    {
     "data": {
      "application/vnd.jupyter.widget-view+json": {
       "model_id": "a9942011600a411781f3a5b8c43b0af5",
       "version_major": 2,
       "version_minor": 0
      },
      "text/plain": [
       "Downloading (…)solve/main/vocab.txt:   0%|          | 0.00/232k [00:00<?, ?B/s]"
      ]
     },
     "metadata": {},
     "output_type": "display_data"
    },
    {
     "name": "stdout",
     "output_type": "stream",
     "text": [
      "[{'label': 'POSITIVE', 'score': 0.9998704195022583}]\n"
     ]
    }
   ],
   "source": [
    "print(pipeline('sentiment-analysis')('we love you'))"
   ]
  }
 ],
 "metadata": {
  "kernelspec": {
   "display_name": "venv",
   "language": "python",
   "name": "python3"
  },
  "language_info": {
   "codemirror_mode": {
    "name": "ipython",
    "version": 3
   },
   "file_extension": ".py",
   "mimetype": "text/x-python",
   "name": "python",
   "nbconvert_exporter": "python",
   "pygments_lexer": "ipython3",
   "version": "3.9.13"
  },
  "orig_nbformat": 4
 },
 "nbformat": 4,
 "nbformat_minor": 2
}
