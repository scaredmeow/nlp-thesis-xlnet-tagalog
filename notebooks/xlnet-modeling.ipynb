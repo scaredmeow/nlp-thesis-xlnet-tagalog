{
 "cells": [
  {
   "attachments": {},
   "cell_type": "markdown",
   "metadata": {},
   "source": [
    "# Loading Libraries and Data\n"
   ]
  },
  {
   "attachments": {},
   "cell_type": "markdown",
   "metadata": {},
   "source": [
    "## Loading Libraries\n"
   ]
  },
  {
   "cell_type": "code",
   "execution_count": 1,
   "metadata": {},
   "outputs": [],
   "source": [
    "import pandas as pd\n"
   ]
  },
  {
   "attachments": {},
   "cell_type": "markdown",
   "metadata": {},
   "source": [
    "## Loading Data\n"
   ]
  },
  {
   "cell_type": "code",
   "execution_count": 2,
   "metadata": {},
   "outputs": [
    {
     "data": {
      "text/html": [
       "<div>\n",
       "<style scoped>\n",
       "    .dataframe tbody tr th:only-of-type {\n",
       "        vertical-align: middle;\n",
       "    }\n",
       "\n",
       "    .dataframe tbody tr th {\n",
       "        vertical-align: top;\n",
       "    }\n",
       "\n",
       "    .dataframe thead th {\n",
       "        text-align: right;\n",
       "    }\n",
       "</style>\n",
       "<table border=\"1\" class=\"dataframe\">\n",
       "  <thead>\n",
       "    <tr style=\"text-align: right;\">\n",
       "      <th></th>\n",
       "      <th>id</th>\n",
       "      <th>comment</th>\n",
       "      <th>comment_no_tags</th>\n",
       "      <th>comment_cleaned_uncased</th>\n",
       "      <th>comment_cleaned_cased</th>\n",
       "      <th>lang</th>\n",
       "      <th>rating</th>\n",
       "      <th>product_quality</th>\n",
       "      <th>Material Quality</th>\n",
       "      <th>Best Feature</th>\n",
       "      <th>...</th>\n",
       "      <th>Occasion</th>\n",
       "      <th>Usage Experience</th>\n",
       "      <th>Quality</th>\n",
       "      <th>Product Quality</th>\n",
       "      <th>Texture</th>\n",
       "      <th>Value For Money</th>\n",
       "      <th>Received</th>\n",
       "      <th>Ordered</th>\n",
       "      <th>Seller</th>\n",
       "      <th>Delivery</th>\n",
       "    </tr>\n",
       "  </thead>\n",
       "  <tbody>\n",
       "    <tr>\n",
       "      <th>0</th>\n",
       "      <td>0</td>\n",
       "      <td>Colour:Black\\nMaterial Quality:Good Quality\\n\\...</td>\n",
       "      <td>True to size, and color. Maganda ang kulay, te...</td>\n",
       "      <td>true to size, and color. maganda ang kulay, te...</td>\n",
       "      <td>True to size, and color. Maganda ang kulay, te...</td>\n",
       "      <td>tl</td>\n",
       "      <td>5</td>\n",
       "      <td>5</td>\n",
       "      <td>Good Quality</td>\n",
       "      <td>NaN</td>\n",
       "      <td>...</td>\n",
       "      <td>NaN</td>\n",
       "      <td>NaN</td>\n",
       "      <td>Good Quality</td>\n",
       "      <td>NaN</td>\n",
       "      <td>NaN</td>\n",
       "      <td>NaN</td>\n",
       "      <td>NaN</td>\n",
       "      <td>NaN</td>\n",
       "      <td>NaN</td>\n",
       "      <td>NaN</td>\n",
       "    </tr>\n",
       "    <tr>\n",
       "      <th>1</th>\n",
       "      <td>1</td>\n",
       "      <td>Appearance:ok\\nColour:good\\nMaterial Quality:m...</td>\n",
       "      <td>May konting damage lang sya Ok nmn mejo makapa...</td>\n",
       "      <td>may konting damage lang sya ok nmn mejo makapa...</td>\n",
       "      <td>May konting damage lang sya Ok nmn mejo makapa...</td>\n",
       "      <td>tl</td>\n",
       "      <td>3</td>\n",
       "      <td>3</td>\n",
       "      <td>mejo manipis pero pwd na dn sa price</td>\n",
       "      <td>NaN</td>\n",
       "      <td>...</td>\n",
       "      <td>NaN</td>\n",
       "      <td>NaN</td>\n",
       "      <td>mejo manipis pero pwd na dn sa price</td>\n",
       "      <td>NaN</td>\n",
       "      <td>NaN</td>\n",
       "      <td>NaN</td>\n",
       "      <td>NaN</td>\n",
       "      <td>NaN</td>\n",
       "      <td>NaN</td>\n",
       "      <td>NaN</td>\n",
       "    </tr>\n",
       "    <tr>\n",
       "      <th>2</th>\n",
       "      <td>2</td>\n",
       "      <td>Appearance:pangit\\nColour:good\\nMaterial Quali...</td>\n",
       "      <td>manipis yung tela ngayon pangalawang order ko....</td>\n",
       "      <td>manipis yung tela ngayon pangalawang order ko....</td>\n",
       "      <td>manipis yung tela ngayon pangalawang order ko....</td>\n",
       "      <td>tl</td>\n",
       "      <td>1</td>\n",
       "      <td>1</td>\n",
       "      <td>manipis</td>\n",
       "      <td>NaN</td>\n",
       "      <td>...</td>\n",
       "      <td>NaN</td>\n",
       "      <td>NaN</td>\n",
       "      <td>manipis</td>\n",
       "      <td>NaN</td>\n",
       "      <td>NaN</td>\n",
       "      <td>NaN</td>\n",
       "      <td>NaN</td>\n",
       "      <td>NaN</td>\n",
       "      <td>NaN</td>\n",
       "      <td>NaN</td>\n",
       "    </tr>\n",
       "  </tbody>\n",
       "</table>\n",
       "<p>3 rows × 32 columns</p>\n",
       "</div>"
      ],
      "text/plain": [
       "   id                                            comment  \\\n",
       "0   0  Colour:Black\\nMaterial Quality:Good Quality\\n\\...   \n",
       "1   1  Appearance:ok\\nColour:good\\nMaterial Quality:m...   \n",
       "2   2  Appearance:pangit\\nColour:good\\nMaterial Quali...   \n",
       "\n",
       "                                     comment_no_tags  \\\n",
       "0  True to size, and color. Maganda ang kulay, te...   \n",
       "1  May konting damage lang sya Ok nmn mejo makapa...   \n",
       "2  manipis yung tela ngayon pangalawang order ko....   \n",
       "\n",
       "                             comment_cleaned_uncased  \\\n",
       "0  true to size, and color. maganda ang kulay, te...   \n",
       "1  may konting damage lang sya ok nmn mejo makapa...   \n",
       "2  manipis yung tela ngayon pangalawang order ko....   \n",
       "\n",
       "                               comment_cleaned_cased lang  rating  \\\n",
       "0  True to size, and color. Maganda ang kulay, te...   tl       5   \n",
       "1  May konting damage lang sya Ok nmn mejo makapa...   tl       3   \n",
       "2  manipis yung tela ngayon pangalawang order ko....   tl       1   \n",
       "\n",
       "   product_quality                      Material Quality Best Feature  ...  \\\n",
       "0                5                          Good Quality          NaN  ...   \n",
       "1                3  mejo manipis pero pwd na dn sa price          NaN  ...   \n",
       "2                1                               manipis          NaN  ...   \n",
       "\n",
       "  Occasion Usage Experience                               Quality  \\\n",
       "0      NaN              NaN                          Good Quality   \n",
       "1      NaN              NaN  mejo manipis pero pwd na dn sa price   \n",
       "2      NaN              NaN                               manipis   \n",
       "\n",
       "  Product Quality Texture Value For Money Received Ordered Seller Delivery  \n",
       "0             NaN     NaN             NaN      NaN     NaN    NaN      NaN  \n",
       "1             NaN     NaN             NaN      NaN     NaN    NaN      NaN  \n",
       "2             NaN     NaN             NaN      NaN     NaN    NaN      NaN  \n",
       "\n",
       "[3 rows x 32 columns]"
      ]
     },
     "execution_count": 2,
     "metadata": {},
     "output_type": "execute_result"
    }
   ],
   "source": [
    "df = pd.read_csv(\"../data/model-data/comment-2-orig.csv\", low_memory=False)\n",
    "df.head(3)\n"
   ]
  },
  {
   "cell_type": "code",
   "execution_count": 4,
   "metadata": {},
   "outputs": [
    {
     "data": {
      "text/plain": [
       "5    190405\n",
       "4     10138\n",
       "3      5452\n",
       "1      4863\n",
       "2      2382\n",
       "Name: rating, dtype: int64"
      ]
     },
     "execution_count": 4,
     "metadata": {},
     "output_type": "execute_result"
    }
   ],
   "source": [
    "data = df[[\"rating\", \"comment_cleaned_uncased\", \"comment_cleaned_cased\"]]\n",
    "\n",
    "data.rating.value_counts()\n"
   ]
  },
  {
   "cell_type": "code",
   "execution_count": 5,
   "metadata": {},
   "outputs": [
    {
     "data": {
      "text/html": [
       "<div>\n",
       "<style scoped>\n",
       "    .dataframe tbody tr th:only-of-type {\n",
       "        vertical-align: middle;\n",
       "    }\n",
       "\n",
       "    .dataframe tbody tr th {\n",
       "        vertical-align: top;\n",
       "    }\n",
       "\n",
       "    .dataframe thead th {\n",
       "        text-align: right;\n",
       "    }\n",
       "</style>\n",
       "<table border=\"1\" class=\"dataframe\">\n",
       "  <thead>\n",
       "    <tr style=\"text-align: right;\">\n",
       "      <th></th>\n",
       "      <th>label</th>\n",
       "      <th>msg_uncased</th>\n",
       "      <th>msg_cased</th>\n",
       "    </tr>\n",
       "  </thead>\n",
       "  <tbody>\n",
       "    <tr>\n",
       "      <th>0</th>\n",
       "      <td>5</td>\n",
       "      <td>true to size, and color. maganda ang kulay, te...</td>\n",
       "      <td>True to size, and color. Maganda ang kulay, te...</td>\n",
       "    </tr>\n",
       "    <tr>\n",
       "      <th>1</th>\n",
       "      <td>3</td>\n",
       "      <td>may konting damage lang sya ok nmn mejo makapa...</td>\n",
       "      <td>May konting damage lang sya Ok nmn mejo makapa...</td>\n",
       "    </tr>\n",
       "    <tr>\n",
       "      <th>2</th>\n",
       "      <td>1</td>\n",
       "      <td>manipis yung tela ngayon pangalawang order ko....</td>\n",
       "      <td>manipis yung tela ngayon pangalawang order ko....</td>\n",
       "    </tr>\n",
       "    <tr>\n",
       "      <th>3</th>\n",
       "      <td>5</td>\n",
       "      <td>the ietem is good it is soft and safe po dumat...</td>\n",
       "      <td>The ietem is good it is soft and safe po dumat...</td>\n",
       "    </tr>\n",
       "    <tr>\n",
       "      <th>4</th>\n",
       "      <td>5</td>\n",
       "      <td>thank you seller ang bilis dumating, hindi tul...</td>\n",
       "      <td>Thank you seller ang bilis dumating, hindi tul...</td>\n",
       "    </tr>\n",
       "    <tr>\n",
       "      <th>...</th>\n",
       "      <td>...</td>\n",
       "      <td>...</td>\n",
       "      <td>...</td>\n",
       "    </tr>\n",
       "    <tr>\n",
       "      <th>213235</th>\n",
       "      <td>5</td>\n",
       "      <td>thank youuu! nakarating ng maaga order ko!</td>\n",
       "      <td>Thank youuu! nakarating ng maaga order ko!</td>\n",
       "    </tr>\n",
       "    <tr>\n",
       "      <th>213236</th>\n",
       "      <td>5</td>\n",
       "      <td>nice quality! will surely purchase again thank...</td>\n",
       "      <td>Nice quality! Will surely purchase again thank...</td>\n",
       "    </tr>\n",
       "    <tr>\n",
       "      <th>213237</th>\n",
       "      <td>5</td>\n",
       "      <td>malaki ung flower at maganda</td>\n",
       "      <td>Malaki ung flower at maganda</td>\n",
       "    </tr>\n",
       "    <tr>\n",
       "      <th>213238</th>\n",
       "      <td>5</td>\n",
       "      <td>super realistic, salamat shopeee  order po ako...</td>\n",
       "      <td>Super realistic, salamat shopeee  order po ako...</td>\n",
       "    </tr>\n",
       "    <tr>\n",
       "      <th>213239</th>\n",
       "      <td>5</td>\n",
       "      <td>ayan pag deliver nakalabas ang mga stem sa pac...</td>\n",
       "      <td>Ayan pag deliver nakalabas ang mga stem sa pac...</td>\n",
       "    </tr>\n",
       "  </tbody>\n",
       "</table>\n",
       "<p>213240 rows × 3 columns</p>\n",
       "</div>"
      ],
      "text/plain": [
       "        label                                        msg_uncased  \\\n",
       "0           5  true to size, and color. maganda ang kulay, te...   \n",
       "1           3  may konting damage lang sya ok nmn mejo makapa...   \n",
       "2           1  manipis yung tela ngayon pangalawang order ko....   \n",
       "3           5  the ietem is good it is soft and safe po dumat...   \n",
       "4           5  thank you seller ang bilis dumating, hindi tul...   \n",
       "...       ...                                                ...   \n",
       "213235      5         thank youuu! nakarating ng maaga order ko!   \n",
       "213236      5  nice quality! will surely purchase again thank...   \n",
       "213237      5                       malaki ung flower at maganda   \n",
       "213238      5  super realistic, salamat shopeee  order po ako...   \n",
       "213239      5  ayan pag deliver nakalabas ang mga stem sa pac...   \n",
       "\n",
       "                                                msg_cased  \n",
       "0       True to size, and color. Maganda ang kulay, te...  \n",
       "1       May konting damage lang sya Ok nmn mejo makapa...  \n",
       "2       manipis yung tela ngayon pangalawang order ko....  \n",
       "3       The ietem is good it is soft and safe po dumat...  \n",
       "4       Thank you seller ang bilis dumating, hindi tul...  \n",
       "...                                                   ...  \n",
       "213235         Thank youuu! nakarating ng maaga order ko!  \n",
       "213236  Nice quality! Will surely purchase again thank...  \n",
       "213237                       Malaki ung flower at maganda  \n",
       "213238  Super realistic, salamat shopeee  order po ako...  \n",
       "213239  Ayan pag deliver nakalabas ang mga stem sa pac...  \n",
       "\n",
       "[213240 rows x 3 columns]"
      ]
     },
     "execution_count": 5,
     "metadata": {},
     "output_type": "execute_result"
    }
   ],
   "source": [
    "data = data.rename(\n",
    "    columns={\n",
    "        \"comment_cleaned_uncased\": \"msg_uncased\",\n",
    "        \"comment_cleaned_cased\": \"msg_cased\",\n",
    "        \"rating\": \"label\",\n",
    "    }\n",
    ")\n",
    "data\n"
   ]
  },
  {
   "cell_type": "code",
   "execution_count": 6,
   "metadata": {},
   "outputs": [
    {
     "data": {
      "text/plain": [
       "0         True to size, and color. Maganda ang kulay, te...\n",
       "1         May konting damage lang sya Ok nmn mejo makapa...\n",
       "2         manipis yung tela ngayon pangalawang order ko....\n",
       "3         The ietem is good it is soft and safe po dumat...\n",
       "4         Thank you seller ang bilis dumating, hindi tul...\n",
       "                                ...                        \n",
       "213235           Thank youuu! nakarating ng maaga order ko!\n",
       "213236    Nice quality! Will surely purchase again thank...\n",
       "213237                         Malaki ung flower at maganda\n",
       "213238    Super realistic, salamat shopeee  order po ako...\n",
       "213239    Ayan pag deliver nakalabas ang mga stem sa pac...\n",
       "Name: msg_cased, Length: 213240, dtype: object"
      ]
     },
     "execution_count": 6,
     "metadata": {},
     "output_type": "execute_result"
    }
   ],
   "source": [
    "data.msg_cased\n"
   ]
  },
  {
   "cell_type": "code",
   "execution_count": 7,
   "metadata": {},
   "outputs": [],
   "source": [
    "from transformers import pipeline\n"
   ]
  },
  {
   "cell_type": "code",
   "execution_count": 43,
   "metadata": {},
   "outputs": [
    {
     "name": "stderr",
     "output_type": "stream",
     "text": [
      "Some layers from the model checkpoint at distilbert-base-uncased-finetuned-sst-2-english were not used when initializing TFDistilBertForSequenceClassification: ['dropout_19']\n",
      "- This IS expected if you are initializing TFDistilBertForSequenceClassification from the checkpoint of a model trained on another task or with another architecture (e.g. initializing a BertForSequenceClassification model from a BertForPreTraining model).\n",
      "- This IS NOT expected if you are initializing TFDistilBertForSequenceClassification from the checkpoint of a model that you expect to be exactly identical (initializing a BertForSequenceClassification model from a BertForSequenceClassification model).\n",
      "Some layers of TFDistilBertForSequenceClassification were not initialized from the model checkpoint at distilbert-base-uncased-finetuned-sst-2-english and are newly initialized: ['dropout_153']\n",
      "You should probably TRAIN this model on a down-stream task to be able to use it for predictions and inference.\n"
     ]
    }
   ],
   "source": [
    "classifier3 = pipeline(\n",
    "    \"sentiment-analysis\", model=\"distilbert-base-uncased-finetuned-sst-2-english\"\n",
    ")\n"
   ]
  },
  {
   "cell_type": "code",
   "execution_count": 13,
   "metadata": {},
   "outputs": [
    {
     "data": {
      "application/vnd.jupyter.widget-view+json": {
       "model_id": "81e704b4aa1245848ed1cbc168407624",
       "version_major": 2,
       "version_minor": 0
      },
      "text/plain": [
       "Downloading (…)lve/main/config.json:   0%|          | 0.00/717 [00:00<?, ?B/s]"
      ]
     },
     "metadata": {},
     "output_type": "display_data"
    },
    {
     "data": {
      "application/vnd.jupyter.widget-view+json": {
       "model_id": "1fdb06827fbe4b2492639a044dbe07b8",
       "version_major": 2,
       "version_minor": 0
      },
      "text/plain": [
       "Downloading tf_model.h5:   0%|          | 0.00/1.46G [00:00<?, ?B/s]"
      ]
     },
     "metadata": {},
     "output_type": "display_data"
    },
    {
     "name": "stderr",
     "output_type": "stream",
     "text": [
      "All model checkpoint layers were used when initializing TFRobertaForSequenceClassification.\n",
      "\n",
      "Some layers of TFRobertaForSequenceClassification were not initialized from the model checkpoint at jcblaise/roberta-tagalog-large and are newly initialized: ['classifier']\n",
      "You should probably TRAIN this model on a down-stream task to be able to use it for predictions and inference.\n"
     ]
    },
    {
     "data": {
      "application/vnd.jupyter.widget-view+json": {
       "model_id": "96abd2403d6e47a787b8f6ade7133013",
       "version_major": 2,
       "version_minor": 0
      },
      "text/plain": [
       "Downloading (…)okenizer_config.json:   0%|          | 0.00/1.11k [00:00<?, ?B/s]"
      ]
     },
     "metadata": {},
     "output_type": "display_data"
    },
    {
     "data": {
      "application/vnd.jupyter.widget-view+json": {
       "model_id": "d9b08352e99141b59282f4732c2b789a",
       "version_major": 2,
       "version_minor": 0
      },
      "text/plain": [
       "Downloading (…)olve/main/vocab.json:   0%|          | 0.00/472k [00:00<?, ?B/s]"
      ]
     },
     "metadata": {},
     "output_type": "display_data"
    },
    {
     "data": {
      "application/vnd.jupyter.widget-view+json": {
       "model_id": "1fe53fe5ba4c4ac7924e3704558936d4",
       "version_major": 2,
       "version_minor": 0
      },
      "text/plain": [
       "Downloading (…)olve/main/merges.txt:   0%|          | 0.00/272k [00:00<?, ?B/s]"
      ]
     },
     "metadata": {},
     "output_type": "display_data"
    },
    {
     "data": {
      "application/vnd.jupyter.widget-view+json": {
       "model_id": "ab53aa315bf24693a4b6d26d13f5951c",
       "version_major": 2,
       "version_minor": 0
      },
      "text/plain": [
       "Downloading (…)/main/tokenizer.json:   0%|          | 0.00/804k [00:00<?, ?B/s]"
      ]
     },
     "metadata": {},
     "output_type": "display_data"
    },
    {
     "data": {
      "application/vnd.jupyter.widget-view+json": {
       "model_id": "fbc970ac6bf14525804d66a7a45b9167",
       "version_major": 2,
       "version_minor": 0
      },
      "text/plain": [
       "Downloading (…)cial_tokens_map.json:   0%|          | 0.00/772 [00:00<?, ?B/s]"
      ]
     },
     "metadata": {},
     "output_type": "display_data"
    }
   ],
   "source": [
    "classifier4 = pipeline(\"text-classification\", model=\"jcblaise/roberta-tagalog-large\")\n"
   ]
  },
  {
   "cell_type": "code",
   "execution_count": 9,
   "metadata": {},
   "outputs": [
    {
     "name": "stderr",
     "output_type": "stream",
     "text": [
      "All model checkpoint layers were used when initializing TFBertForSequenceClassification.\n",
      "\n",
      "All the layers of TFBertForSequenceClassification were initialized from the model checkpoint at nlptown/bert-base-multilingual-uncased-sentiment.\n",
      "If your task is similar to the task the model of the checkpoint was trained on, you can already use TFBertForSequenceClassification for predictions without further training.\n"
     ]
    }
   ],
   "source": [
    "classifier2 = pipeline(\n",
    "    \"sentiment-analysis\", model=\"nlptown/bert-base-multilingual-uncased-sentiment\"\n",
    ")\n"
   ]
  },
  {
   "cell_type": "code",
   "execution_count": 10,
   "metadata": {},
   "outputs": [
    {
     "name": "stderr",
     "output_type": "stream",
     "text": [
      "All model checkpoint layers were used when initializing TFRobertaForMaskedLM.\n",
      "\n",
      "All the layers of TFRobertaForMaskedLM were initialized from the model checkpoint at jcblaise/roberta-tagalog-base.\n",
      "If your task is similar to the task the model of the checkpoint was trained on, you can already use TFRobertaForMaskedLM for predictions without further training.\n"
     ]
    }
   ],
   "source": [
    "classifier = pipeline(model=\"jcblaise/roberta-tagalog-base\")\n"
   ]
  },
  {
   "cell_type": "code",
   "execution_count": 16,
   "metadata": {},
   "outputs": [
    {
     "data": {
      "text/plain": [
       "[{'label': 'LABEL_1', 'score': 0.6860524415969849}]"
      ]
     },
     "execution_count": 16,
     "metadata": {},
     "output_type": "execute_result"
    }
   ],
   "source": [
    "classifier4(\n",
    "    \"\"\"\n",
    "           XL ORDER KO HINDI SMALL AT NAVY BLUE ORDER KO HINDI MAROON NOT RECOMENDED SELLER WA KAYO BIBILI DITO Hindi nasunod kulay na order ko Hindi nasunod kulay na order ko Hindi nasunod kulay na order ko Hindi nasunod kulay na order ko Hindi nasunod kulay na order ko Hindi nasunod kulay na order ko\n",
    "\"\"\"\n",
    ")\n"
   ]
  },
  {
   "cell_type": "code",
   "execution_count": 36,
   "metadata": {},
   "outputs": [
    {
     "data": {
      "text/html": [
       "<div>\n",
       "<style scoped>\n",
       "    .dataframe tbody tr th:only-of-type {\n",
       "        vertical-align: middle;\n",
       "    }\n",
       "\n",
       "    .dataframe tbody tr th {\n",
       "        vertical-align: top;\n",
       "    }\n",
       "\n",
       "    .dataframe thead th {\n",
       "        text-align: right;\n",
       "    }\n",
       "</style>\n",
       "<table border=\"1\" class=\"dataframe\">\n",
       "  <thead>\n",
       "    <tr style=\"text-align: right;\">\n",
       "      <th></th>\n",
       "      <th>label</th>\n",
       "      <th>msg_uncased</th>\n",
       "      <th>msg_cased</th>\n",
       "    </tr>\n",
       "  </thead>\n",
       "  <tbody>\n",
       "    <tr>\n",
       "      <th>2</th>\n",
       "      <td>1</td>\n",
       "      <td>manipis yung tela ngayon pangalawang order ko....</td>\n",
       "      <td>manipis yung tela ngayon pangalawang order ko....</td>\n",
       "    </tr>\n",
       "    <tr>\n",
       "      <th>6</th>\n",
       "      <td>1</td>\n",
       "      <td>this happened to me twice from this shop, last...</td>\n",
       "      <td>This happened to me twice from this shop, last...</td>\n",
       "    </tr>\n",
       "    <tr>\n",
       "      <th>12</th>\n",
       "      <td>1</td>\n",
       "      <td>wrong color  size. order ko dark gray and blac...</td>\n",
       "      <td>Wrong color  size. Order ko dark gray and blac...</td>\n",
       "    </tr>\n",
       "    <tr>\n",
       "      <th>37</th>\n",
       "      <td>1</td>\n",
       "      <td>xl order ko hindi small at navy blue order ko ...</td>\n",
       "      <td>XL ORDER KO HINDI SMALL AT NAVY BLUE ORDER KO ...</td>\n",
       "    </tr>\n",
       "    <tr>\n",
       "      <th>41</th>\n",
       "      <td>1</td>\n",
       "      <td>kakainis! ang inorder ko jogger pants light gr...</td>\n",
       "      <td>kakainis! ang inorder ko JOGGER PANTS LIGHT GR...</td>\n",
       "    </tr>\n",
       "    <tr>\n",
       "      <th>...</th>\n",
       "      <td>...</td>\n",
       "      <td>...</td>\n",
       "      <td>...</td>\n",
       "    </tr>\n",
       "    <tr>\n",
       "      <th>213175</th>\n",
       "      <td>1</td>\n",
       "      <td>expensive yet the items are not good so disapp...</td>\n",
       "      <td>expensive yet the items are not good so disapp...</td>\n",
       "    </tr>\n",
       "    <tr>\n",
       "      <th>213182</th>\n",
       "      <td>1</td>\n",
       "      <td>wala kayo kwenta bilihan.di niyo man lang nila...</td>\n",
       "      <td>Wala kayo kwenta bilihan.di niyo man lang nila...</td>\n",
       "    </tr>\n",
       "    <tr>\n",
       "      <th>213184</th>\n",
       "      <td>1</td>\n",
       "      <td>pictures are decieving,looks just big in the p...</td>\n",
       "      <td>pictures are decieving,looks just big in the p...</td>\n",
       "    </tr>\n",
       "    <tr>\n",
       "      <th>213191</th>\n",
       "      <td>1</td>\n",
       "      <td>too late! slow delivery. event has been done y...</td>\n",
       "      <td>Too late! Slow Delivery. Event has been done y...</td>\n",
       "    </tr>\n",
       "    <tr>\n",
       "      <th>213202</th>\n",
       "      <td>1</td>\n",
       "      <td>hindi nakakatuwa seller. pinatrouble mo ako sa...</td>\n",
       "      <td>Hindi nakakatuwa seller. Pinatrouble mo ako sa...</td>\n",
       "    </tr>\n",
       "  </tbody>\n",
       "</table>\n",
       "<p>4863 rows × 3 columns</p>\n",
       "</div>"
      ],
      "text/plain": [
       "        label                                        msg_uncased   \n",
       "2           1  manipis yung tela ngayon pangalawang order ko....  \\\n",
       "6           1  this happened to me twice from this shop, last...   \n",
       "12          1  wrong color  size. order ko dark gray and blac...   \n",
       "37          1  xl order ko hindi small at navy blue order ko ...   \n",
       "41          1  kakainis! ang inorder ko jogger pants light gr...   \n",
       "...       ...                                                ...   \n",
       "213175      1  expensive yet the items are not good so disapp...   \n",
       "213182      1  wala kayo kwenta bilihan.di niyo man lang nila...   \n",
       "213184      1  pictures are decieving,looks just big in the p...   \n",
       "213191      1  too late! slow delivery. event has been done y...   \n",
       "213202      1  hindi nakakatuwa seller. pinatrouble mo ako sa...   \n",
       "\n",
       "                                                msg_cased  \n",
       "2       manipis yung tela ngayon pangalawang order ko....  \n",
       "6       This happened to me twice from this shop, last...  \n",
       "12      Wrong color  size. Order ko dark gray and blac...  \n",
       "37      XL ORDER KO HINDI SMALL AT NAVY BLUE ORDER KO ...  \n",
       "41      kakainis! ang inorder ko JOGGER PANTS LIGHT GR...  \n",
       "...                                                   ...  \n",
       "213175  expensive yet the items are not good so disapp...  \n",
       "213182  Wala kayo kwenta bilihan.di niyo man lang nila...  \n",
       "213184  pictures are decieving,looks just big in the p...  \n",
       "213191  Too late! Slow Delivery. Event has been done y...  \n",
       "213202  Hindi nakakatuwa seller. Pinatrouble mo ako sa...  \n",
       "\n",
       "[4863 rows x 3 columns]"
      ]
     },
     "execution_count": 36,
     "metadata": {},
     "output_type": "execute_result"
    }
   ],
   "source": [
    "data[data.label == 1]\n"
   ]
  },
  {
   "cell_type": "code",
   "execution_count": 45,
   "metadata": {},
   "outputs": [
    {
     "data": {
      "text/plain": [
       "'XL ORDER KO HINDI SMALL AT NAVY BLUE ORDER KO HINDI MAROON NOT RECOMENDED SELLER WA KAYO BIBILI DITO Hindi nasunod kulay na order ko Hindi nasunod kulay na order ko Hindi nasunod kulay na order ko Hindi nasunod kulay na order ko Hindi nasunod kulay na order ko Hindi nasunod kulay na order ko'"
      ]
     },
     "execution_count": 45,
     "metadata": {},
     "output_type": "execute_result"
    }
   ],
   "source": [
    "data.msg_cased[37]\n"
   ]
  }
 ],
 "metadata": {
  "kernelspec": {
   "display_name": "venv",
   "language": "python",
   "name": "python3"
  },
  "language_info": {
   "codemirror_mode": {
    "name": "ipython",
    "version": 3
   },
   "file_extension": ".py",
   "mimetype": "text/x-python",
   "name": "python",
   "nbconvert_exporter": "python",
   "pygments_lexer": "ipython3",
   "version": "3.9.13"
  },
  "orig_nbformat": 4
 },
 "nbformat": 4,
 "nbformat_minor": 2
}
